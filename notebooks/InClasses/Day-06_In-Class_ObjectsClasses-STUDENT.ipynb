{
 "cells": [
  {
   "cell_type": "markdown",
   "metadata": {},
   "source": [
    "# In-class Assignment: We have a Zoo!\n",
    "# Day 6\n",
    "# CMSE 202\n",
    "<img src=\"https://images.thedirect.com/media/article_full/mada.jpg\" width=500px>"
   ]
  },
  {
   "cell_type": "markdown",
   "metadata": {},
   "source": [
    "### <p style=\"text-align: right;\"> &#9989; Gunnar Austin\n",
    "<p style=\"text-align: right;\"> &#9989; Put your group member names here."
   ]
  },
  {
   "cell_type": "markdown",
   "metadata": {},
   "source": [
    "## Learning Goals:\n",
    "\n",
    "By the end of this assignment you should be able to:\n",
    "\n",
    "* Review code that uses built-in and/or custom written Python objects (classes)\n",
    "* Use objects in connection to other variable types in Python.\n",
    "\n",
    "## Assignment instructions\n",
    "\n",
    "Work with your group to complete this assignment. Instructions for submitting this assignment are at the end of the notebook. The assignment is due at the end of class.\n",
    "\n",
    "## Agenda for today:\n",
    "\n",
    "1. [Creating a Zoo using the `Animal` object](#creating)\n",
    "2. [Let's assemble a Zoo](#assemble)\n",
    "3. [Printing some information about the Zoo](#printing)\n",
    "4. [Visualizing some information about your Zoo (time permitting)](#visualize)\n",
    "\n",
    "### Download an additional file\n",
    "\n",
    "There is an extra file that you need for this assignment named \"Animal.py\". **Make sure you download that file and put it in the same location as this Jupyter notebook**. The file contains the definition of the class you will use in the assignment. You can get it here:\n",
    "\n",
    "`https://raw.githubusercontent.com/msu-cmse-courses/cmse202-supplemental-data/main/code_samples/Animal.py`"
   ]
  },
  {
   "cell_type": "markdown",
   "metadata": {},
   "source": [
    "---\n",
    "<a id=\"creating\"></a>\n",
    "## 1: Creating a Zoo using the `Animal` object\n",
    "\n",
    "The objective of this assignment is to create a Zoo with various numbers of animals and various species. The `Animal` object is already prepared and available in file `Animal.py` (check that you downloaded the file and put it in the right location).\n",
    "\n",
    "**&#9989; Do This:** **Open the file and look how the object is written**.\n",
    "\n",
    "Before creating a Zoo, discuss with your group how you will define some of the parameters you will need for your Zoo and for each animal in the Zoo:\n",
    " - The animals (species) you will have in your Zoo\n",
    " - The number of zookeepers needed to take care of **each animal**; can be a fraction: 0.2 means one zookeeper can take care of 5 animals\n",
    " - the area required in the Zoo for **each animal**; this can be an average value per animal (i.e. if 10 zebras require 10,000 m$^2$, use 1000 for each zebra)\n",
    "\n",
    "**&#9989; Do This:** **Create one or more dictionaries and store your estimated values into those dictionaries for later use**.\n",
    "\n",
    "**Suggestion:** Write out the list of animals you decided to \"have\" in the Zoo and then define values for each of them. Use a collaborative document or whiteboard as necessary!\n"
   ]
  },
  {
   "cell_type": "code",
   "execution_count": 25,
   "metadata": {},
   "outputs": [],
   "source": [
    "# write estimated values\n",
    "# or the other way (first number of an area, second is number of keepers):\n",
    "animals = {}\n",
    "animals['lion'] = {'lion', 'Alex', 400, 3}\n",
    "animals['zebra'] = {'zebra', 'Marty', 400, 2}\n",
    "animals['monkey'] = {'monkey', 'George', 200, 1}\n",
    "animals['hippo'] = {'hippo', 'Gloria', 700, 4}"
   ]
  },
  {
   "cell_type": "markdown",
   "metadata": {},
   "source": [
    "### 1.1 Initialization \n",
    "\n",
    "**&#9989; Do This:** Do not forget to run the cell below. The cell imports necessary modules, `numpy` and `matplotlib`, and also our new `Animal` module, which contains the definition of the class `Animal` that we will use during the assignment."
   ]
  },
  {
   "cell_type": "code",
   "execution_count": 33,
   "metadata": {},
   "outputs": [],
   "source": [
    "import numpy as np\n",
    "import matplotlib.pyplot as plt\n",
    "import pandas as pd\n",
    "# import animal class from the Python script\n",
    "from Animal import Animal\n",
    "# The magic command below instructs Jupyter Notebook to automatically load classes and methods from external files \n",
    "# in case they have changed from last load time;\n",
    "# This is needed when you change the Animal.py file\n",
    "%reload_ext autoreload\n",
    "%autoreload 2"
   ]
  },
  {
   "cell_type": "markdown",
   "metadata": {},
   "source": [
    "### 1.2 Create a single Animal object\n",
    "\n",
    "First create one `Animal` object to practice creating objects. Store this object as the variable `alex`. You can use code from pre-class assignment for creating objects or fill-in missing pieces in the code below.\n"
   ]
  },
  {
   "cell_type": "code",
   "execution_count": 26,
   "metadata": {},
   "outputs": [],
   "source": [
    "# put your code here or complete the provided code\n",
    "# define parameters to method Animal(); look into file Animal.py or add new cell and use command 'Animal?' to see the required parameters\n",
    "alex = Animal('Lion', 'Alex', '2004-12-20')\n",
    "# add the area\n",
    "alex.set_required_area(300)\n",
    "# add also number of keepers using method `set_number_keepers()`\n",
    "alex.set_number_keepers(3)"
   ]
  },
  {
   "cell_type": "markdown",
   "metadata": {},
   "source": [
    "**&#9989; Do This:** Once you've created your `alex` animal, run the following cell to test that everything is working as intended."
   ]
  },
  {
   "cell_type": "code",
   "execution_count": 27,
   "metadata": {},
   "outputs": [
    {
     "name": "stdout",
     "output_type": "stream",
     "text": [
      "Alex is a Lion and requires 300 m^2 of space and 3 keepers to be happy.\n"
     ]
    }
   ],
   "source": [
    "# test your new object; no error should occur and you should see the values you defined above\n",
    "print(\"{0} is a {1} and requires {2} m^2 of space and {3} keepers to be happy.\".format(alex.get_name(), alex.get_kind(), alex.get_required_area(), alex.get_number_keepers()))\n"
   ]
  },
  {
   "cell_type": "markdown",
   "metadata": {},
   "source": [
    "---\n",
    "<a id=\"assemble\"></a>\n",
    "## 2: Let's assemble a Zoo\n",
    "\n",
    "**&#9989; Do This:** Create a list that will contain all the `Animal` objects that will be stored in the Zoo. First create an object for each animal (re-use the code above for each animal), define all attributes (name, kind, arrival date, area, and keepers) and then add the object to the list (using the function `append()` function). **You should put at least 5 animals in your Zoo.**\n"
   ]
  },
  {
   "cell_type": "code",
   "execution_count": 49,
   "metadata": {},
   "outputs": [],
   "source": [
    "# put your code here\n",
    "\n",
    "# This list will be used for storing all of your Zoo animals\n",
    "zoo = []\n",
    "zoo.append(Animal('lion', 'Alex', '2010-9-12'))\n",
    "zoo.append(Animal('zebra', 'Marty', '2012-2-3'))\n",
    "zoo.append(Animal('monkey', 'George', '2009-3-19'))\n",
    "zoo.append(Animal('hippo', 'Gloria', '2011-4-8'))\n",
    "\n",
    "# Define your Zoo animals\n",
    "# Depending on how you set things up, you can use the values you have defined before: e.g. set_required_area(area['lion'])\n",
    "# Make sure you append each animal to the list after you create it\n",
    "\n",
    "keeper_area = {\n",
    "    'lion':   {'area': 600, 'keepers': 3},\n",
    "    'zebra':  {'area': 400, 'keepers': 2},\n",
    "    'monkey': {'area': 200, 'keepers': 1},\n",
    "    'hippo':  {'area': 700, 'keepers': 4}\n",
    "}\n",
    "\n",
    "# update each animal\n",
    "for animal in zoo:\n",
    "    kind = animal.get_kind()\n",
    "    if kind in keeper_area:\n",
    "        animal.set_required_area(keeper_area[kind]['area'])\n",
    "        animal.set_number_keepers(keeper_area[kind]['keepers'])"
   ]
  },
  {
   "cell_type": "markdown",
   "metadata": {},
   "source": [
    "### Test: Who are the animals in the Zoo?\n",
    "\n",
    "**&#9989; Do This:** Run the code to print out the animals in your Zoo. Since we are using objects (objects contain all necessary information about object itself), the code should run without errors and print names of the animals in the Zoo."
   ]
  },
  {
   "cell_type": "code",
   "execution_count": 41,
   "metadata": {},
   "outputs": [
    {
     "name": "stdout",
     "output_type": "stream",
     "text": [
      "Alex is a lion.\n",
      "Marty is a zebra.\n",
      "George is a monkey.\n",
      "Gloria is a hippo.\n"
     ]
    }
   ],
   "source": [
    "# printing all animals in the ZOO\n",
    "# !!! add the name of your list variable to the \"for\" loop!!!\n",
    "for animal in zoo:\n",
    "    # print all animals in the ZOO\n",
    "    print(\"{0} is a {1}.\".format(animal.get_name(), animal.get_kind()))\n",
    "    "
   ]
  },
  {
   "cell_type": "markdown",
   "metadata": {},
   "source": [
    "---\n",
    "<a id=\"printing\"></a>\n",
    "## 3: Printing some information about the Zoo\n",
    "\n",
    "Now with the Zoo defined, we can print out some more or less interesting facts about our Zoo.\n",
    "\n",
    "**&#9989; Do This:** Write the code into each cell to print the following information. **Remember to use the `Animal` object methods as much as possible!**\n",
    "   - number of animals in the Zoo\n",
    "   - number of people you need to hire (round up to next integer number!) to take care of the animals\n",
    "   - total area required for the Zoo\n",
    "   - For today's date, print the average number of days the animals have spent in the Zoo so far (**hint**: there's a function that returns how long an individual animal has been in the zoo!)\n",
    "   - print names of animals, together with their kind in alphabetical order (e.g. \"Alex, lion\");\n"
   ]
  },
  {
   "cell_type": "code",
   "execution_count": 38,
   "metadata": {},
   "outputs": [
    {
     "name": "stdout",
     "output_type": "stream",
     "text": [
      "There are 4 animals in the zoo\n"
     ]
    }
   ],
   "source": [
    "# print number of animals in the Zoo\n",
    "i = 0\n",
    "for animal in zoo:\n",
    "    i+=1\n",
    "print('There are ' + str(i) + ' animals in the zoo')"
   ]
  },
  {
   "cell_type": "code",
   "execution_count": 44,
   "metadata": {},
   "outputs": [
    {
     "name": "stdout",
     "output_type": "stream",
     "text": [
      "Alex needs 3 keepers\n",
      "Marty needs 2 keepers\n",
      "George needs 1 keepers\n",
      "Gloria needs 4 keepers\n",
      "10 staff needs to be hired\n"
     ]
    }
   ],
   "source": [
    "# print number of people you need to hire (round up to next integer number!) to take care for animals\n",
    "staff = 0\n",
    "for animal in zoo:\n",
    "    print(str(animal.get_name()) + ' needs ' + str(animal.get_number_keepers()) + ' keepers')\n",
    "    staff = staff + animal.get_number_keepers()\n",
    "print(str(staff) + ' staff needs to be hired')"
   ]
  },
  {
   "cell_type": "code",
   "execution_count": 46,
   "metadata": {},
   "outputs": [
    {
     "name": "stdout",
     "output_type": "stream",
     "text": [
      "Alex needs 600m^2\n",
      "Marty needs 400m^2\n",
      "George needs 200m^2\n",
      "Gloria needs 700m^2\n",
      "1900m^2 needs to be alloacted\n"
     ]
    }
   ],
   "source": [
    "# print total area of the ZOO\n",
    "area = 0\n",
    "for animal in zoo:\n",
    "    print(str(animal.get_name()) + ' needs ' + str(animal.get_required_area()) + 'm^2')\n",
    "    area = area + animal.get_required_area()\n",
    "print(str(area) + 'm^2 needs to be alloacted')"
   ]
  },
  {
   "cell_type": "code",
   "execution_count": 51,
   "metadata": {},
   "outputs": [
    {
     "name": "stdout",
     "output_type": "stream",
     "text": [
      "Alex has been in the zoo for 5482 days\n",
      "Marty has been in the zoo for 4973 days\n",
      "George has been in the zoo for 6024 days\n",
      "Gloria has been in the zoo for 5274 days\n",
      "The average time spent in zoo is 5438.25 days\n"
     ]
    }
   ],
   "source": [
    "# print the average duration of days the animals are in your Zoo. Look at Animal.py to determine if there is a function that can help with this...\n",
    "time = []\n",
    "for animal in zoo:\n",
    "    print(str(animal.get_name()) + ' has been in the zoo for ' + str(animal.days_in_zoo()) + ' days')\n",
    "    time.append(animal.days_in_zoo())\n",
    "print('The average time spent in zoo is ' + str(np.mean(time)) + ' days')"
   ]
  },
  {
   "cell_type": "code",
   "execution_count": 53,
   "metadata": {},
   "outputs": [
    {
     "name": "stdout",
     "output_type": "stream",
     "text": [
      "Alex is a lion\n",
      "George is a monkey\n",
      "Gloria is a hippo\n",
      "Marty is a zebra\n"
     ]
    }
   ],
   "source": [
    "# print names of animals in alphabetical order, together with their kind (example: Alex, lion)\n",
    "# hint: store all names of animals in a list and use the sort method to sort the list\n",
    "pairs = [(animal.get_name(), animal.get_kind()) for animal in zoo]\n",
    "pairs_sorted = sorted(pairs, key=lambda x: x[0])  # sort by name\n",
    "\n",
    "for name, kind in pairs_sorted:\n",
    "    print(f\"{name} is a {kind}\")"
   ]
  },
  {
   "cell_type": "markdown",
   "metadata": {},
   "source": [
    "---\n",
    "<a id=\"visualize\"></a>\n",
    "## 4: Visualizing some information about your Zoo (time permitting)"
   ]
  },
  {
   "cell_type": "markdown",
   "metadata": {},
   "source": [
    "**&#9989; Do This:** Using the animal objects that you used to create your Zoo, do some additional data manipulation, and plot the following:\n",
    " - bar plot of number of animals of each kind (number of lions, zebras, etc.)\n",
    " \n",
    "**Hint(s):** There are many ways to do this, two possible ways are:\n",
    " - using `matplotlib.pyplot`: use method `bar()` for plotting. The method requires two lists: one for animal types (X axis), the other for number of each animal type (Y axis):\n",
    "   - using a dictionary makes it easier to store animal types and their count\n",
    "   - check methods `keys()` and `values()` how to get lists of keys and values from a dictionary\n",
    " <br><br>  \n",
    " - using `pandas`: use method `plot(kind='bar')`. Pandas also has a method `value_counts()` that might be useful to create data necessary for bar plot."
   ]
  },
  {
   "cell_type": "code",
   "execution_count": 55,
   "metadata": {},
   "outputs": [
    {
     "data": {
      "image/png": "[encoded data removed]",
      "text/plain": [
       "<Figure size 640x480 with 1 Axes>"
      ]
     },
     "metadata": {},
     "output_type": "display_data"
    }
   ],
   "source": [
    "# put your code here\n",
    "counts = {}\n",
    "for animal in zoo:\n",
    "    kind = animal.get_kind()\n",
    "    counts[kind] = counts.get(kind, 0) + 1\n",
    "\n",
    "plt.bar(counts.keys(), counts.values())\n",
    "plt.xlabel(\"Animal kind\")\n",
    "plt.ylabel(\"Number of animals\")\n",
    "plt.title(\"Zoo animal counts\")\n",
    "plt.show()"
   ]
  },
  {
   "cell_type": "markdown",
   "metadata": {
    "tags": []
   },
   "source": [
    "---\n",
    "### &#128721; STOP\n",
    "Check in with an instructor before you leave class!\n",
    "\n",
    "---"
   ]
  },
  {
   "cell_type": "markdown",
   "metadata": {},
   "source": [
    "---"
   ]
  },
  {
   "cell_type": "markdown",
   "metadata": {},
   "source": [
    "## Congratulations, you're done!\n",
    "\n",
    "Submit this assignment by uploading it to the course Desire2Learn web page.  Go to the \"In-class assignments\" folder, find the appropriate submission folder, and upload it there.\n",
    "\n",
    "See you next class!"
   ]
  },
  {
   "cell_type": "markdown",
   "metadata": {},
   "source": [
    "&#169; Copyright 2025,  Department of Computational Mathematics, Science and Engineering at Michigan State University"
   ]
  }
 ],
 "metadata": {
  "kernelspec": {
   "display_name": "Python 3 (ipykernel)",
   "language": "python",
   "name": "python3"
  },
  "language_info": {
   "codemirror_mode": {
    "name": "ipython",
    "version": 3
   },
   "file_extension": ".py",
   "mimetype": "text/x-python",
   "name": "python",
   "nbconvert_exporter": "python",
   "pygments_lexer": "ipython3",
   "version": "3.12.3"
  }
 },
 "nbformat": 4,
 "nbformat_minor": 4
}
